{
 "cells": [
  {
   "cell_type": "code",
   "execution_count": 1,
   "metadata": {},
   "outputs": [],
   "source": [
    "import torch"
   ]
  },
  {
   "cell_type": "code",
   "execution_count": 3,
   "metadata": {},
   "outputs": [],
   "source": [
    "X,y = torch.load('alsaad_phase1.pt',weights_only=True)"
   ]
  },
  {
   "cell_type": "code",
   "execution_count": null,
   "metadata": {},
   "outputs": [],
   "source": [
    "X.shape,y.shape"
   ]
  },
  {
   "cell_type": "code",
   "execution_count": 6,
   "metadata": {},
   "outputs": [],
   "source": [
    "from sklearn.model_selection import train_test_split"
   ]
  },
  {
   "cell_type": "code",
   "execution_count": 7,
   "metadata": {},
   "outputs": [],
   "source": [
    "X_train,X_test,y_train,y_test = train_test_split(X,y)"
   ]
  },
  {
   "cell_type": "code",
   "execution_count": null,
   "metadata": {},
   "outputs": [],
   "source": [
    "from sage.models import ResNetv2,ResBlockv2\n",
    "\n",
    "hyperparameters = {\n",
    "    'block':ResBlockv2,\n",
    "    'widthi':[4],\n",
    "    'depthi':[1],\n",
    "    'n_output_neurons':1,\n",
    "    'norm':'layer'\n",
    "}\n",
    "model = ResNetv2(**hyperparameters)\n",
    "optimizer = torch.optim.AdamW(model.parameters(),lr=3e-4)\n",
    "criterion = torch.nn.BCEWithLogitsLoss()\n",
    "scheduler = torch.optim.lr_scheduler.ReduceLROnPlateau(optimizer, mode='min', factor=0.5, patience=50)"
   ]
  },
  {
   "cell_type": "code",
   "execution_count": 30,
   "metadata": {},
   "outputs": [],
   "source": [
    "import matplotlib.pyplot as plt\n",
    "from torch.utils.data import TensorDataset,DataLoader"
   ]
  },
  {
   "cell_type": "code",
   "execution_count": 49,
   "metadata": {},
   "outputs": [],
   "source": [
    "trainloader = DataLoader(TensorDataset(X_train,y_train),batch_size=32)\n",
    "testloader = DataLoader(TensorDataset(X_test,y_test),batch_size=32)\n",
    "trainlossi = []\n",
    "testlossi = []\n",
    "trainf1i = []\n",
    "testf1i = []"
   ]
  },
  {
   "cell_type": "code",
   "execution_count": 52,
   "metadata": {},
   "outputs": [],
   "source": [
    "device = torch.device('cuda' if torch.cuda.is_available() else 'cpu')\n",
    "model = model.to(device)\n",
    "from sklearn.metrics import f1_score\n",
    "\n",
    "for epoch in range(100):\n",
    "    running_loss = 0.0\n",
    "    train_preds, train_labels = [], []\n",
    "\n",
    "    for i, (Xi, yi) in enumerate(trainloader):\n",
    "        Xi, yi = Xi.to(device), yi.to(device)\n",
    "        optimizer.zero_grad()\n",
    "        logits = model(Xi)\n",
    "        loss = criterion(logits, yi)\n",
    "        loss.backward()\n",
    "        optimizer.step()\n",
    "\n",
    "        running_loss += loss.item()\n",
    "\n",
    "        train_preds.extend(torch.sigmoid(logits).round().detach().cpu().numpy())\n",
    "        train_labels.extend(yi.cpu().numpy())\n",
    "\n",
    "    trainlossi.append(running_loss / len(trainloader))\n",
    "\n",
    "    running_loss = 0.0\n",
    "    test_preds, test_labels = [], []\n",
    "\n",
    "    with torch.no_grad():\n",
    "        running_loss = 0.0\n",
    "        for i, (Xi, yi) in enumerate(testloader):\n",
    "            Xi, yi = Xi.to(device), yi.to(device)\n",
    "            logits = model(Xi)\n",
    "            loss = criterion(logits, yi)\n",
    "            running_loss += loss.item()\n",
    "\n",
    "            test_preds.extend(torch.sigmoid(logits).round().cpu().numpy())\n",
    "            test_labels.extend(yi.cpu().numpy())\n",
    "\n",
    "        testlossi.append(running_loss / len(testloader))\n",
    "    train_f1 = f1_score(train_labels, train_preds, average='macro')\n",
    "    test_f1 = f1_score(test_labels, test_preds, average='macro')\n",
    "    trainf1i.append(train_f1)\n",
    "    testf1i.append(test_f1)\n",
    "\n",
    "    fig, (ax1, ax2) = plt.subplots(1, 2, figsize=(12, 5))\n",
    "    ax1.plot(trainlossi)\n",
    "    ax1.plot(testlossi)\n",
    "    ax2.plot(trainf1i)\n",
    "    ax2.plot(testf1i)\n",
    "    plt.savefig('loss.jpg')\n",
    "    plt.close()"
   ]
  },
  {
   "cell_type": "code",
   "execution_count": null,
   "metadata": {},
   "outputs": [],
   "source": [
    "from sage.utils import evaluate_sigmoid\n",
    "from sklearn.metrics import ConfusionMatrixDisplay,classification_report\n",
    "\n",
    "loss,y_true,y_pred = evaluate_sigmoid(trainloader,model,criterion)\n",
    "ConfusionMatrixDisplay.from_predictions(y_true,y_pred)\n",
    "print(classification_report(y_true,y_pred))\n",
    "loss,y_true,y_pred = evaluate_sigmoid(testloader,model,criterion)\n",
    "ConfusionMatrixDisplay.from_predictions(y_true,y_pred)\n",
    "print(classification_report(y_true,y_pred))"
   ]
  },
  {
   "cell_type": "code",
   "execution_count": null,
   "metadata": {},
   "outputs": [],
   "source": [
    "X,y = torch.load('iftakhar_phase2.pt',weights_only=True)\n",
    "evalloader = DataLoader(TensorDataset(X,y),batch_size=32)\n",
    "loss,y_true,y_pred = evaluate_sigmoid(evalloader,model,criterion)\n",
    "ConfusionMatrixDisplay.from_predictions(y_true,y_pred)\n",
    "print(classification_report(y_true,y_pred))"
   ]
  }
 ],
 "metadata": {
  "kernelspec": {
   "display_name": "Python 3",
   "language": "python",
   "name": "python3"
  },
  "language_info": {
   "codemirror_mode": {
    "name": "ipython",
    "version": 3
   },
   "file_extension": ".py",
   "mimetype": "text/x-python",
   "name": "python",
   "nbconvert_exporter": "python",
   "pygments_lexer": "ipython3",
   "version": "3.10.12"
  }
 },
 "nbformat": 4,
 "nbformat_minor": 2
}
