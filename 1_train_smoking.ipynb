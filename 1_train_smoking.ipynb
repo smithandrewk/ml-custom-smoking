{
 "cells": [
  {
   "cell_type": "code",
   "execution_count": 1,
   "metadata": {},
   "outputs": [],
   "source": [
    "# dataloader\n",
    "import os\n",
    "from lib.env import DATA_PATH\n",
    "import json\n",
    "import pandas as pd\n",
    "from lib.utils import *\n",
    "import matplotlib.pyplot as plt\n",
    "import plotly.express as px\n",
    "from torch.utils.data import DataLoader,TensorDataset,ConcatDataset\n",
    "import torch\n",
    "from sklearn.metrics import ConfusionMatrixDisplay,classification_report\n",
    "from sage.models import ResNetv2,ResBlockv2\n",
    "from tqdm import tqdm\n",
    "from sage.utils import evaluate_sigmoid\n",
    "import matplotlib.pyplot as plt\n",
    "import torch\n",
    "from sklearn.metrics import f1_score\n",
    "DATA_PATH = f'../label-smoking-data'\n",
    "device = torch.device('cuda' if torch.cuda.is_available() else 'cpu')"
   ]
  },
  {
   "cell_type": "code",
   "execution_count": 2,
   "metadata": {},
   "outputs": [],
   "source": [
    "TRAIN_PROJECTS = ['alsaad_phase1','alsaad_phase2','asfiqur_phase1','asfiqur_phase2','iftakhar_phase1','iftakhar_phase2']\n",
    "DEV_PROJECTS = ['tonmoy_phase2']\n",
    "X_train,y_train = torch.cat([torch.load(f'{DATA_PATH}/{project}.pt',weights_only=True)[0] for project in TRAIN_PROJECTS]),torch.cat([torch.load(f'{DATA_PATH}/{project}.pt',weights_only=True)[1] for project in TRAIN_PROJECTS])\n",
    "X_dev,y_dev = torch.cat([torch.load(f'{DATA_PATH}/{project}.pt',weights_only=True)[0] for project in DEV_PROJECTS]),torch.cat([torch.load(f'{DATA_PATH}/{project}.pt',weights_only=True)[1] for project in DEV_PROJECTS])"
   ]
  },
  {
   "cell_type": "code",
   "execution_count": 6,
   "metadata": {},
   "outputs": [],
   "source": [
    "trainloader = DataLoader(TensorDataset(X_train,y_train),batch_size=32,shuffle=True)\n",
    "devloader = DataLoader(TensorDataset(X_dev,y_dev),batch_size=32,shuffle=True)"
   ]
  },
  {
   "cell_type": "code",
   "execution_count": null,
   "metadata": {},
   "outputs": [],
   "source": [
    "hyperparameters = {\n",
    "    'block':ResBlockv2,\n",
    "    'widthi':[4],\n",
    "    'depthi':[4],\n",
    "    'n_output_neurons':1,\n",
    "    'norm':'layer'\n",
    "}\n",
    "train_losses = []\n",
    "val_losses = []\n",
    "train_f1_scores = []\n",
    "val_f1_scores = []\n",
    "\n",
    "model = ResNetv2(**hyperparameters)\n",
    "optimizer = torch.optim.AdamW(model.parameters(),lr=3e-4)\n",
    "criterion = torch.nn.BCEWithLogitsLoss()"
   ]
  },
  {
   "cell_type": "code",
   "execution_count": 101,
   "metadata": {},
   "outputs": [],
   "source": [
    "lossi = []\n",
    "train_losses = []\n",
    "val_losses = []\n",
    "train_f1_scores = []\n",
    "val_f1_scores = []"
   ]
  },
  {
   "cell_type": "code",
   "execution_count": 8,
   "metadata": {},
   "outputs": [],
   "source": []
  },
  {
   "cell_type": "code",
   "execution_count": null,
   "metadata": {},
   "outputs": [],
   "source": [
    "val_interval = 10\n",
    "model = model.to(device)\n",
    "\n",
    "num_epochs = 1000\n",
    "for epoch in range(num_epochs):\n",
    "    model.train()\n",
    "    running_loss = 0.0\n",
    "    train_preds, train_labels = [], []\n",
    "    \n",
    "    for i, (inputs, labels) in enumerate(trainloader):\n",
    "        inputs, labels = inputs.to(device), labels.to(device)\n",
    "        optimizer.zero_grad()\n",
    "        outputs = model(inputs)\n",
    "        loss = criterion(outputs, labels)\n",
    "        loss.backward()\n",
    "        optimizer.step()\n",
    "\n",
    "        running_loss += loss.item()\n",
    "        preds = torch.sigmoid(outputs).round().detach()\n",
    "        train_preds.extend(preds.cpu().numpy())\n",
    "        train_labels.extend(labels.cpu().numpy())\n",
    "        if (i + 1) % val_interval == 0:\n",
    "            model.eval()\n",
    "            val_loss = 0.0\n",
    "            val_preds, val_labels_list = [], []\n",
    "            with torch.no_grad():\n",
    "                for val_inputs, val_labels in devloader:\n",
    "                    val_inputs, val_labels = val_inputs.to(device), val_labels.to(device)\n",
    "                    \n",
    "                    val_outputs = model(val_inputs)\n",
    "                    val_loss += criterion(val_outputs, val_labels).item()\n",
    "                    val_preds.extend(torch.sigmoid(val_outputs).round().cpu().numpy())\n",
    "                    val_labels_list.extend(val_labels.cpu().numpy())\n",
    "\n",
    "            val_loss /= len(devloader)\n",
    "            val_losses.append(val_loss)\n",
    "\n",
    "            # Compute F1 scores\n",
    "            train_f1 = f1_score(train_labels, train_preds, average='macro')\n",
    "            val_f1 = f1_score(val_labels_list, val_preds, average='macro')\n",
    "\n",
    "            train_f1_scores.append(train_f1)\n",
    "            val_f1_scores.append(val_f1)\n",
    "\n",
    "            print(f'Epoch [{epoch + 1}/{num_epochs}], Step [{i + 1}/{len(trainloader)}], '\n",
    "                  f'Train Loss: {running_loss / val_interval:.4f}, Val Loss: {val_loss:.4f}')\n",
    "            \n",
    "            # Reset running loss and F1 calculation data\n",
    "            train_losses.append(running_loss / val_interval)\n",
    "            running_loss = 0.0\n",
    "            train_preds, train_labels = [], []  # Reset for the next round\n",
    "            \n",
    "            model.train()  # Switch back to training mode\n",
    "\n",
    "            # Plotting losses and F1 scores in subplots\n",
    "            fig, (ax1, ax2) = plt.subplots(1, 2, figsize=(12, 5))\n",
    "\n",
    "            # Loss plot\n",
    "            ax1.plot(train_losses, label='Train Loss')\n",
    "            ax1.plot(val_losses, label='Validation Loss')\n",
    "            ax1.set_xlabel('Steps (scaled by interval)')\n",
    "            ax1.set_ylabel('Loss')\n",
    "            ax1.set_title('Loss Curves')\n",
    "            ax1.legend()\n",
    "\n",
    "            # F1 Score plot\n",
    "            ax2.plot(train_f1_scores, label='Train F1 Score')\n",
    "            ax2.plot(val_f1_scores, label='Validation F1 Score')\n",
    "            ax2.set_xlabel('Steps (scaled by interval)')\n",
    "            ax2.set_ylabel('F1 Score')\n",
    "            ax2.set_title('F1 Score Curves')\n",
    "            ax2.legend()\n",
    "\n",
    "            plt.tight_layout()\n",
    "            plt.savefig('training_validation_test_curves.jpg')\n",
    "            plt.close()"
   ]
  },
  {
   "cell_type": "code",
   "execution_count": null,
   "metadata": {},
   "outputs": [],
   "source": [
    "loss,y_true,y_pred = evaluate_sigmoid(trainloader,model,criterion,device)\n",
    "ConfusionMatrixDisplay.from_predictions(y_true,y_pred)\n",
    "print(classification_report(y_true,y_pred))\n",
    "loss,y_true,y_pred = evaluate_sigmoid(devloader,model,criterion,device)\n",
    "ConfusionMatrixDisplay.from_predictions(y_true,y_pred)\n",
    "print(classification_report(y_true,y_pred))"
   ]
  },
  {
   "cell_type": "code",
   "execution_count": 18,
   "metadata": {},
   "outputs": [],
   "source": [
    "torch.save(model,'model.pt')"
   ]
  },
  {
   "cell_type": "code",
   "execution_count": 6,
   "metadata": {},
   "outputs": [],
   "source": [
    "model = torch.load(f'model.pt',weights_only=False,map_location='cpu')\n",
    "model.eval();\n",
    "criterion = torch.nn.BCEWithLogitsLoss()"
   ]
  },
  {
   "cell_type": "code",
   "execution_count": 7,
   "metadata": {},
   "outputs": [
    {
     "name": "stdout",
     "output_type": "stream",
     "text": [
      "tonmoy_phase2\n",
      "['0.csv', '1.csv', '10.csv', '11.csv', '12.csv', '13.csv', '2.csv', '3.csv', '4.csv', '5.csv', '6.csv', '7.csv', '8.csv', '9.csv']\n",
      "0.csv\n",
      "torch.Size([1314, 3, 2500]) torch.Size([1314, 1])\n"
     ]
    }
   ],
   "source": [
    "DATA_PATH = f'../data'\n",
    "balance = True\n",
    "project = 'tonmoy_phase2'\n",
    "print(project)\n",
    "fs = 100\n",
    "windowsize_seconds = 25\n",
    "windowsize_samples = windowsize_seconds*fs\n",
    "stride_proportion = 1\n",
    "stride_samples = int(windowsize_samples*stride_proportion)\n",
    "labels_path = f'{DATA_PATH}/1_labeled/{project}/labels.json'\n",
    "with open(labels_path, 'r') as f:\n",
    "    labels = json.load(f)\n",
    "regions = sorted(os.listdir(f'{DATA_PATH}/2_regions/{project}'))\n",
    "print(regions)\n",
    "X_test = []\n",
    "y_test = []\n",
    "for region in regions[:1]:\n",
    "    print(region)\n",
    "    X_test_i = []\n",
    "    y_test_i = []\n",
    "    df = pd.read_csv(f'{DATA_PATH}/2_regions/{project}/{region}')\n",
    "    df.timestamp = df.timestamp.astype('datetime64[ns]')\n",
    "    region_labels = [(datetime.datetime.strptime(label['start'], '%Y-%m-%d %H:%M:%S.%f'),datetime.datetime.strptime(label['end'], '%Y-%m-%d %H:%M:%S.%f')) for label in labels]\n",
    "    region_labels = [label for label in region_labels if ((label[0] > df.timestamp.min()) & (label[1] < df.timestamp.max()))]\n",
    "    df['y_true'] = 0\n",
    "    for label in region_labels:\n",
    "        df.loc[((df.timestamp > label[0]) & (df.timestamp < label[1])),'y_true'] = 1\n",
    "\n",
    "    X = torch.from_numpy(df[['x','y','z']].values).float()\n",
    "    y = torch.from_numpy(df['y_true'].values).float()\n",
    "\n",
    "    for i in range(0,len(X) - windowsize_samples,windowsize_samples):\n",
    "        X_test_i.append(X[i:i+windowsize_samples])\n",
    "        y_test_i.append(y[i + (windowsize_samples // 2)])\n",
    "\n",
    "    X_test_i = torch.stack(X_test_i).transpose(1,2)\n",
    "    y_test_i = torch.tensor(y_test_i).reshape(-1,1).float()\n",
    "\n",
    "    if torch.where(y_test_i == 1)[0].shape[0] == 0:\n",
    "        continue\n",
    "    \n",
    "    X_test.append(X_test_i)\n",
    "    y_test.append(y_test_i)\n",
    "X_test = torch.vstack(X_test)\n",
    "y_test = torch.vstack(y_test)\n",
    "print(X_test.shape,y_test.shape)"
   ]
  },
  {
   "cell_type": "code",
   "execution_count": 8,
   "metadata": {},
   "outputs": [
    {
     "name": "stdout",
     "output_type": "stream",
     "text": [
      "              precision    recall  f1-score   support\n",
      "\n",
      "         0.0       0.98      0.89      0.93      1228\n",
      "         1.0       0.31      0.72      0.43        86\n",
      "\n",
      "    accuracy                           0.88      1314\n",
      "   macro avg       0.64      0.80      0.68      1314\n",
      "weighted avg       0.93      0.88      0.90      1314\n",
      "\n"
     ]
    },
    {
     "data": {
      "image/png": "[encoded data removed]",
      "text/plain": [
       "<Figure size 640x480 with 2 Axes>"
      ]
     },
     "metadata": {},
     "output_type": "display_data"
    }
   ],
   "source": [
    "from sage.utils import evaluate_sigmoid\n",
    "\n",
    "testloader = DataLoader(TensorDataset(X_test,y_test),batch_size=128,shuffle=True)\n",
    "loss,y_true,y_pred = evaluate_sigmoid(testloader,model,criterion,device)\n",
    "ConfusionMatrixDisplay.from_predictions(y_true,y_pred)\n",
    "print(classification_report(y_true,y_pred))"
   ]
  },
  {
   "cell_type": "code",
   "execution_count": 26,
   "metadata": {},
   "outputs": [],
   "source": [
    "torch.save(model,'model.pt')"
   ]
  },
  {
   "cell_type": "code",
   "execution_count": 9,
   "metadata": {},
   "outputs": [],
   "source": [
    "\n",
    "import numpy as np\n",
    "def slow_moving_average(signal, alpha=0.01):\n",
    "    ema = np.zeros_like(signal)\n",
    "    ema[0] = 0\n",
    "    \n",
    "    for t in range(1, len(signal)):\n",
    "        ema[t] = alpha * signal[t] + (1 - alpha) * ema[t-1]\n",
    "    \n",
    "    return torch.from_numpy(ema)"
   ]
  },
  {
   "cell_type": "code",
   "execution_count": 10,
   "metadata": {},
   "outputs": [],
   "source": [
    "X_plot = X_test.transpose(1,2).reshape(-1,3)"
   ]
  },
  {
   "cell_type": "code",
   "execution_count": 21,
   "metadata": {},
   "outputs": [
    {
     "name": "stderr",
     "output_type": "stream",
     "text": [
      "/tmp/ipykernel_84490/1453724315.py:7: DeprecationWarning:\n",
      "\n",
      "__array_wrap__ must accept context and return_scalar arguments (positionally) in the future. (Deprecated NumPy 2.0)\n",
      "\n",
      "/tmp/ipykernel_84490/1453724315.py:7: DeprecationWarning:\n",
      "\n",
      "__array__ implementation doesn't accept a copy keyword, so passing copy=False failed. __array__ must implement 'dtype' and 'copy' keyword arguments.\n",
      "\n"
     ]
    }
   ],
   "source": [
    "\n",
    "y_pred = model(X_test.to(device)).sigmoid().detach().cpu()\n",
    "y_true = torch.from_numpy(y_test.flatten().long().numpy().repeat(2500)).unsqueeze(1)*20\n",
    "y_pred_sma = torch.cat([yi.repeat(2500) for yi in slow_moving_average(y_pred,alpha=.2)])"
   ]
  },
  {
   "cell_type": "code",
   "execution_count": 22,
   "metadata": {},
   "outputs": [],
   "source": [
    "fig = px.line(pd.DataFrame(torch.hstack([y_pred_sma.unsqueeze(1),y_true/20])).iloc[::100])\n",
    "fig.show(renderer='browser')"
   ]
  },
  {
   "cell_type": "code",
   "execution_count": 16,
   "metadata": {},
   "outputs": [],
   "source": [
    "fig = px.line(pd.DataFrame(torch.hstack([X_plot,y_pred_sma.unsqueeze(1),y_true])).iloc[::100])\n",
    "fig.show(renderer='browser')"
   ]
  },
  {
   "cell_type": "code",
   "execution_count": 40,
   "metadata": {},
   "outputs": [],
   "source": [
    "y_andrew = torch.zeros_like(y_pred_sma)\n",
    "y_andrew[torch.where((y_pred_sma*40) > 25)[0]] = 30"
   ]
  },
  {
   "cell_type": "code",
   "execution_count": 42,
   "metadata": {},
   "outputs": [],
   "source": [
    "fig = px.line(pd.DataFrame(torch.hstack([X_plot,y_pred_sma.unsqueeze(1)*40,y_true,y_andrew.unsqueeze(1)])).iloc[::1000])\n",
    "fig.show(renderer='browser')"
   ]
  },
  {
   "cell_type": "code",
   "execution_count": null,
   "metadata": {},
   "outputs": [],
   "source": [
    "torch.where(y_pred_sma > 25)"
   ]
  },
  {
   "cell_type": "code",
   "execution_count": null,
   "metadata": {},
   "outputs": [],
   "source": [
    "plt.figure(figsize=(7.2,4.48),dpi=200)\n",
    "plt.plot(X_plot,linewidth=.5)\n",
    "# plt.plot(torch.cat([yi.repeat(1000) for yi in y_test.flatten().long()])*40)\n",
    "# plt.plot(torch.cat([yi.repeat(1000) for yi in y_pred.flatten()])[::2]*40)\n",
    "# plt.plot(y_pred_sma*40,linewidth=.5)"
   ]
  },
  {
   "cell_type": "code",
   "execution_count": 285,
   "metadata": {},
   "outputs": [],
   "source": [
    "# padded_signal = F.pad(y_pred.squeeze(), (2, 2), 'constant', 0)\n",
    "# window_size = 100\n",
    "# filter = torch.ones(window_size) / window_size\n",
    "# smoothed_signal = F.conv1d(padded_signal.unsqueeze(0), filter.unsqueeze(0).unsqueeze(0))\n",
    "# smoothed_signal = smoothed_signal.squeeze()"
   ]
  },
  {
   "cell_type": "code",
   "execution_count": null,
   "metadata": {},
   "outputs": [],
   "source": [
    "import matplotlib.pyplot as plt\n",
    "import numpy as np\n",
    "\n",
    "# Assuming 'bottleneck_tsne' is your t-SNE output and it's an Nx2 array\n",
    "num_points = bottleneck_tsne.shape[0]\n",
    "\n",
    "# Generate a color array using the row index (e.g., from 0 to N) for a heatmap-like gradient\n",
    "colors = np.linspace(0, 1, num_points)\n",
    "\n",
    "# Plot with color mapped to the row index\n",
    "plt.figure(figsize=(8, 6))\n",
    "plt.scatter(bottleneck_tsne[:, 0], bottleneck_tsne[:, 1], c=colors, cmap='viridis', marker='o')\n",
    "plt.title('t-SNE of Bottleneck Features with Heatmap by Row Index')\n",
    "plt.xlabel('t-SNE Dimension 1')\n",
    "plt.ylabel('t-SNE Dimension 2')\n",
    "plt.colorbar(label='Row Index (Heatmap)')\n",
    "plt.show()\n"
   ]
  },
  {
   "cell_type": "code",
   "execution_count": null,
   "metadata": {},
   "outputs": [],
   "source": [
    "plt.plot(X.transpose(1,2).reshape(-1,3)[400000:420000])\n",
    "plt.plot(bottleneck_tsne.repeat(1000)[400000:420000])"
   ]
  },
  {
   "cell_type": "code",
   "execution_count": null,
   "metadata": {},
   "outputs": [],
   "source": []
  }
 ],
 "metadata": {
  "kernelspec": {
   "display_name": "ml-env",
   "language": "python",
   "name": "python3"
  },
  "language_info": {
   "codemirror_mode": {
    "name": "ipython",
    "version": 3
   },
   "file_extension": ".py",
   "mimetype": "text/x-python",
   "name": "python",
   "nbconvert_exporter": "python",
   "pygments_lexer": "ipython3",
   "version": "3.10.12"
  }
 },
 "nbformat": 4,
 "nbformat_minor": 2
}
