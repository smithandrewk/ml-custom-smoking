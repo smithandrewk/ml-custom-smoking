{
 "cells": [
  {
   "cell_type": "code",
   "execution_count": 1,
   "metadata": {},
   "outputs": [],
   "source": [
    "# dataloader\n",
    "import os\n",
    "from lib.env import DATA_PATH\n",
    "import json\n",
    "import pandas as pd\n",
    "from lib.utils import *\n",
    "import matplotlib.pyplot as plt\n",
    "import plotly.express as px"
   ]
  },
  {
   "cell_type": "code",
   "execution_count": 2,
   "metadata": {},
   "outputs": [],
   "source": [
    "def write_regions_for_training_project(training_project):\n",
    "    training_project_path = f\"{DATA_PATH}/0_raw/{training_project}\"\n",
    "    recordings = sorted(os.listdir(training_project_path))\n",
    "    regions_path = f'{DATA_PATH}/1_labeled/{training_project}/regions.json'\n",
    "    with open(regions_path, 'r') as f:\n",
    "        regions = json.load(f)\n",
    "\n",
    "    dfs = []\n",
    "    for recording in recordings:\n",
    "        if not os.path.exists(f'{DATA_PATH}/0_raw/{training_project}/{recording}/acceleration.csv'):\n",
    "            continue\n",
    "        df = pd.read_csv(f'{DATA_PATH}/0_raw/{training_project}/{recording}/acceleration.csv',skiprows=1)\n",
    "        if len(df) == 0:\n",
    "            continue\n",
    "        recording = recording.replace(f'_', '-')\n",
    "        year, month, day, hour, minute, second = [int(item) for item in recording.split('-')]\n",
    "        df.timestamp = df.timestamp - df.timestamp[0]\n",
    "        df.timestamp = df.timestamp + (datetime_to_epoch(year, month, day, hour, minute, second)) # 4 for utc correction\n",
    "        df.timestamp = df.timestamp.astype('datetime64[ns]')\n",
    "        dfs.append(df)\n",
    "\n",
    "    df = pd.concat(dfs)\n",
    "    df = df.sort_values(by='timestamp')\n",
    "\n",
    "    if not os.path.exists(f'{DATA_PATH}/2_regions/{training_project}'):\n",
    "        os.makedirs(f'{DATA_PATH}/2_regions/{training_project}')\n",
    "\n",
    "    for i,region in enumerate(regions):\n",
    "        df.set_index('timestamp').loc[region['start']:region['end']].to_csv(f'{DATA_PATH}/2_regions/{training_project}/{i}.csv')"
   ]
  },
  {
   "cell_type": "code",
   "execution_count": 3,
   "metadata": {},
   "outputs": [],
   "source": [
    "for training_project in ['tj_phase1','tj_phase2','ashlin_phase1','ashlin_phase2']:\n",
    "    write_regions_for_training_project(training_project)"
   ]
  },
  {
   "cell_type": "code",
   "execution_count": null,
   "metadata": {},
   "outputs": [],
   "source": [
    "# projects = os.listdir(f'{DATA_PATH}/2_regions')\n",
    "projects = ['tj_phase1','tj_phase2','ashlin_phase1','ashlin_phase2']\n",
    "for project in projects:\n",
    "    windowsize = 5000\n",
    "    stride = 100\n",
    "    balance = True\n",
    "\n",
    "    labels_path = f'{DATA_PATH}/1_labeled/{project}/labels.json'\n",
    "    with open(labels_path, 'r') as f:\n",
    "        labels = json.load(f)\n",
    "    regions = os.listdir(f'{DATA_PATH}/2_regions/{project}')\n",
    "\n",
    "    X_train = []\n",
    "    y_train = []\n",
    "    for region in regions:\n",
    "        X_train_i = []\n",
    "        y_train_i = []\n",
    "        df = pd.read_csv(f'{DATA_PATH}/2_regions/{project}/{region}')\n",
    "        df.timestamp = df.timestamp.astype('datetime64[ns]')\n",
    "        region_labels = [(datetime.datetime.strptime(label['start'], '%Y-%m-%d %H:%M:%S.%f'),datetime.datetime.strptime(label['end'], '%Y-%m-%d %H:%M:%S.%f')) for label in labels]\n",
    "        region_labels = [label for label in region_labels if ((label[0] > df.timestamp.min()) & (label[1] < df.timestamp.max()))]\n",
    "        df['y_true'] = 0\n",
    "        for label in region_labels:\n",
    "            df.loc[((df.timestamp > label[0]) & (df.timestamp < label[1])),'y_true'] = 1\n",
    "        # df_resampled = df.set_index('timestamp').resample('20ms').mean().reset_index()\n",
    "\n",
    "        df_resampled = df.copy()\n",
    "        X = torch.from_numpy(df_resampled[['x','y','z']].values).float()\n",
    "        y = torch.from_numpy(df_resampled['y_true'].values).float()\n",
    "        for i in range(0,len(X) - windowsize,stride):\n",
    "            X_train_i.append(X[i:i+windowsize])\n",
    "            y_train_i.append(y[i + (windowsize // 2)])\n",
    "\n",
    "        X_train_i = torch.stack(X_train_i).transpose(1,2)\n",
    "        y_train_i = torch.tensor(y_train_i).reshape(-1,1).float()\n",
    "\n",
    "        if torch.where(y_train_i == 1)[0].shape[0] == 0:\n",
    "            continue\n",
    "        if balance:\n",
    "            idx_0 = torch.where(y_train_i == 0)[0]\n",
    "            idx_0 = idx_0[torch.randperm(len(idx_0))[:torch.bincount(y_train_i.flatten().long())[1]]]\n",
    "            idx_1 = torch.where(y_train_i == 1)[0]\n",
    "            idx = torch.cat([idx_0,idx_1])\n",
    "            X_train_i,y_train_i = X_train_i[idx],y_train_i[idx]\n",
    "        X_train.append(X_train_i)\n",
    "        y_train.append(y_train_i)\n",
    "    X_train = torch.vstack(X_train)\n",
    "    y_train = torch.vstack(y_train)\n",
    "    print(X_train.shape,y_train.shape)\n",
    "    torch.save((X_train,y_train),f'{project}.pt')"
   ]
  },
  {
   "cell_type": "code",
   "execution_count": null,
   "metadata": {},
   "outputs": [],
   "source": []
  }
 ],
 "metadata": {
  "kernelspec": {
   "display_name": "Python 3",
   "language": "python",
   "name": "python3"
  },
  "language_info": {
   "codemirror_mode": {
    "name": "ipython",
    "version": 3
   },
   "file_extension": ".py",
   "mimetype": "text/x-python",
   "name": "python",
   "nbconvert_exporter": "python",
   "pygments_lexer": "ipython3",
   "version": "3.10.12"
  }
 },
 "nbformat": 4,
 "nbformat_minor": 2
}
