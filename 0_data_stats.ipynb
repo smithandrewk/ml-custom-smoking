{
 "cells": [
  {
   "cell_type": "code",
   "execution_count": 3,
   "metadata": {},
   "outputs": [
    {
     "name": "stderr",
     "output_type": "stream",
     "text": [
      "100%|██████████| 1/1 [00:06<00:00,  6.30s/it]\n"
     ]
    }
   ],
   "source": [
    "import pandas as pd\n",
    "import os\n",
    "from tqdm import tqdm\n",
    "hours_projecti = []\n",
    "# for project in tqdm(os.listdir(f'../data/0_raw')):\n",
    "for project in tqdm(['alsaad_phase1']):\n",
    "    total_hours = 0.0\n",
    "    for recording in os.listdir(f'../data/0_raw/{project}'):\n",
    "        if not os.path.isdir(f'../data/0_raw/{project}/{recording}'):\n",
    "            continue\n",
    "        if not os.path.exists(f'../data/0_raw/{project}/{recording}/acceleration.csv'):\n",
    "            continue\n",
    "        df = pd.read_csv(f'../data/0_raw/{project}/{recording}/acceleration.csv',skiprows=1)\n",
    "        if len(df) == 0:\n",
    "            continue\n",
    "        fs = (1/(df.timestamp.diff().mode().values[0])*1e9)\n",
    "        total_hours += (len(df)/fs)/3600\n",
    "    hours_projecti.append(total_hours)"
   ]
  },
  {
   "cell_type": "code",
   "execution_count": 6,
   "metadata": {},
   "outputs": [
    {
     "data": {
      "text/html": [
       "<div>\n",
       "<style scoped>\n",
       "    .dataframe tbody tr th:only-of-type {\n",
       "        vertical-align: middle;\n",
       "    }\n",
       "\n",
       "    .dataframe tbody tr th {\n",
       "        vertical-align: top;\n",
       "    }\n",
       "\n",
       "    .dataframe thead th {\n",
       "        text-align: right;\n",
       "    }\n",
       "</style>\n",
       "<table border=\"1\" class=\"dataframe\">\n",
       "  <thead>\n",
       "    <tr style=\"text-align: right;\">\n",
       "      <th></th>\n",
       "      <th>timestamp</th>\n",
       "      <th>x</th>\n",
       "      <th>y</th>\n",
       "      <th>z</th>\n",
       "    </tr>\n",
       "  </thead>\n",
       "  <tbody>\n",
       "    <tr>\n",
       "      <th>0</th>\n",
       "      <td>173075594315384</td>\n",
       "      <td>0.205972</td>\n",
       "      <td>-0.490979</td>\n",
       "      <td>9.831555</td>\n",
       "    </tr>\n",
       "    <tr>\n",
       "      <th>1</th>\n",
       "      <td>173075623165807</td>\n",
       "      <td>0.071851</td>\n",
       "      <td>-0.471819</td>\n",
       "      <td>9.810000</td>\n",
       "    </tr>\n",
       "    <tr>\n",
       "      <th>2</th>\n",
       "      <td>173075632786421</td>\n",
       "      <td>0.105381</td>\n",
       "      <td>-0.567620</td>\n",
       "      <td>9.793235</td>\n",
       "    </tr>\n",
       "    <tr>\n",
       "      <th>3</th>\n",
       "      <td>173075642340205</td>\n",
       "      <td>0.112566</td>\n",
       "      <td>-0.603545</td>\n",
       "      <td>9.824370</td>\n",
       "    </tr>\n",
       "    <tr>\n",
       "      <th>4</th>\n",
       "      <td>173075651941965</td>\n",
       "      <td>0.098196</td>\n",
       "      <td>-0.644260</td>\n",
       "      <td>9.826766</td>\n",
       "    </tr>\n",
       "    <tr>\n",
       "      <th>...</th>\n",
       "      <td>...</td>\n",
       "      <td>...</td>\n",
       "      <td>...</td>\n",
       "      <td>...</td>\n",
       "    </tr>\n",
       "    <tr>\n",
       "      <th>2346743</th>\n",
       "      <td>199499574958800</td>\n",
       "      <td>-3.068020</td>\n",
       "      <td>-4.071533</td>\n",
       "      <td>-8.432864</td>\n",
       "    </tr>\n",
       "    <tr>\n",
       "      <th>2346744</th>\n",
       "      <td>199499584560976</td>\n",
       "      <td>-2.320774</td>\n",
       "      <td>-3.503914</td>\n",
       "      <td>-8.823253</td>\n",
       "    </tr>\n",
       "    <tr>\n",
       "      <th>2346745</th>\n",
       "      <td>199499594163152</td>\n",
       "      <td>-2.191443</td>\n",
       "      <td>-2.897974</td>\n",
       "      <td>-9.010064</td>\n",
       "    </tr>\n",
       "    <tr>\n",
       "      <th>2346746</th>\n",
       "      <td>199499603765328</td>\n",
       "      <td>-2.529141</td>\n",
       "      <td>-3.194956</td>\n",
       "      <td>-8.727451</td>\n",
       "    </tr>\n",
       "    <tr>\n",
       "      <th>2346747</th>\n",
       "      <td>199499613367376</td>\n",
       "      <td>-3.465593</td>\n",
       "      <td>-3.594924</td>\n",
       "      <td>-8.514295</td>\n",
       "    </tr>\n",
       "  </tbody>\n",
       "</table>\n",
       "<p>2346748 rows × 4 columns</p>\n",
       "</div>"
      ],
      "text/plain": [
       "               timestamp         x         y         z\n",
       "0        173075594315384  0.205972 -0.490979  9.831555\n",
       "1        173075623165807  0.071851 -0.471819  9.810000\n",
       "2        173075632786421  0.105381 -0.567620  9.793235\n",
       "3        173075642340205  0.112566 -0.603545  9.824370\n",
       "4        173075651941965  0.098196 -0.644260  9.826766\n",
       "...                  ...       ...       ...       ...\n",
       "2346743  199499574958800 -3.068020 -4.071533 -8.432864\n",
       "2346744  199499584560976 -2.320774 -3.503914 -8.823253\n",
       "2346745  199499594163152 -2.191443 -2.897974 -9.010064\n",
       "2346746  199499603765328 -2.529141 -3.194956 -8.727451\n",
       "2346747  199499613367376 -3.465593 -3.594924 -8.514295\n",
       "\n",
       "[2346748 rows x 4 columns]"
      ]
     },
     "execution_count": 6,
     "metadata": {},
     "output_type": "execute_result"
    }
   ],
   "source": []
  },
  {
   "cell_type": "code",
   "execution_count": 5,
   "metadata": {},
   "outputs": [
    {
     "data": {
      "text/plain": [
       "[69.06406901130667]"
      ]
     },
     "execution_count": 5,
     "metadata": {},
     "output_type": "execute_result"
    }
   ],
   "source": [
    "hours_projecti"
   ]
  },
  {
   "cell_type": "code",
   "execution_count": 25,
   "metadata": {},
   "outputs": [],
   "source": [
    "hours_projecti\n",
    "participanti = ['alsaad']*2 + ['asfiqur']*2 + ['tonmoy']*2"
   ]
  },
  {
   "cell_type": "code",
   "execution_count": 26,
   "metadata": {},
   "outputs": [],
   "source": [
    "df = pd.DataFrame([hours_projecti,participanti]).T.groupby(1).sum().reset_index()"
   ]
  },
  {
   "cell_type": "code",
   "execution_count": 27,
   "metadata": {},
   "outputs": [
    {
     "data": {
      "text/html": [
       "<div>\n",
       "<style scoped>\n",
       "    .dataframe tbody tr th:only-of-type {\n",
       "        vertical-align: middle;\n",
       "    }\n",
       "\n",
       "    .dataframe tbody tr th {\n",
       "        vertical-align: top;\n",
       "    }\n",
       "\n",
       "    .dataframe thead th {\n",
       "        text-align: right;\n",
       "    }\n",
       "</style>\n",
       "<table border=\"1\" class=\"dataframe\">\n",
       "  <thead>\n",
       "    <tr style=\"text-align: right;\">\n",
       "      <th></th>\n",
       "      <th>1</th>\n",
       "      <th>0</th>\n",
       "    </tr>\n",
       "  </thead>\n",
       "  <tbody>\n",
       "    <tr>\n",
       "      <th>0</th>\n",
       "      <td>alsaad</td>\n",
       "      <td>168.405835</td>\n",
       "    </tr>\n",
       "    <tr>\n",
       "      <th>1</th>\n",
       "      <td>asfiqur</td>\n",
       "      <td>99.106226</td>\n",
       "    </tr>\n",
       "    <tr>\n",
       "      <th>2</th>\n",
       "      <td>tonmoy</td>\n",
       "      <td>147.208338</td>\n",
       "    </tr>\n",
       "  </tbody>\n",
       "</table>\n",
       "</div>"
      ],
      "text/plain": [
       "         1           0\n",
       "0   alsaad  168.405835\n",
       "1  asfiqur   99.106226\n",
       "2   tonmoy  147.208338"
      ]
     },
     "execution_count": 27,
     "metadata": {},
     "output_type": "execute_result"
    }
   ],
   "source": [
    "df"
   ]
  },
  {
   "cell_type": "code",
   "execution_count": 32,
   "metadata": {},
   "outputs": [
    {
     "data": {
      "text/plain": [
       "414.7203998987022"
      ]
     },
     "execution_count": 32,
     "metadata": {},
     "output_type": "execute_result"
    }
   ],
   "source": [
    "df[0].sum()"
   ]
  },
  {
   "cell_type": "code",
   "execution_count": 29,
   "metadata": {},
   "outputs": [
    {
     "data": {
      "text/plain": [
       "<Axes: ylabel='0'>"
      ]
     },
     "execution_count": 29,
     "metadata": {},
     "output_type": "execute_result"
    },
    {
     "data": {
      "image/png": "[encoded data removed]",
      "text/plain": [
       "<Figure size 640x480 with 1 Axes>"
      ]
     },
     "metadata": {},
     "output_type": "display_data"
    }
   ],
   "source": [
    "import seaborn as sns\n",
    "sns.barplot(df,y=0,hue=1)"
   ]
  },
  {
   "cell_type": "code",
   "execution_count": 27,
   "metadata": {},
   "outputs": [
    {
     "data": {
      "text/plain": [
       "17.857142857142858"
      ]
     },
     "execution_count": 27,
     "metadata": {},
     "output_type": "execute_result"
    }
   ],
   "source": [
    "2500 / 140"
   ]
  },
  {
   "cell_type": "code",
   "execution_count": 52,
   "metadata": {},
   "outputs": [
    {
     "data": {
      "text/plain": [
       "5213.0"
      ]
     },
     "execution_count": 52,
     "metadata": {},
     "output_type": "execute_result"
    }
   ],
   "source": []
  },
  {
   "cell_type": "code",
   "execution_count": 58,
   "metadata": {},
   "outputs": [
    {
     "name": "stdout",
     "output_type": "stream",
     "text": [
      "1.4480555555555557\n",
      "23.886944444444445\n"
     ]
    }
   ],
   "source": [
    "import json\n",
    "from datetime import datetime\n",
    "\n",
    "with open(f'../data/1_labeled/alsaad_phase1/labels.json','r') as f:\n",
    "    labels = json.load(f)\n",
    "\n",
    "for label in labels:\n",
    "    for key in label:\n",
    "        strsplit = label[key].split(\".\")\n",
    "        if len(strsplit) == 2:\n",
    "            strsplit = strsplit[:-1]\n",
    "        label[key] = strsplit[0]\n",
    "\n",
    "labels = [\n",
    "    {\n",
    "        \"start\": label[\"start\"],\n",
    "        \"end\": label[\"end\"],\n",
    "        \"duration\": (datetime.strptime(label[\"end\"], '%Y-%m-%d %H:%M:%S') - datetime.strptime(label[\"start\"], '%Y-%m-%d %H:%M:%S')).total_seconds()\n",
    "    }\n",
    "    for label in labels\n",
    "]\n",
    "with open(f'../data/1_labeled/alsaad_phase1/regions.json','r') as f:\n",
    "    regions = json.load(f)\n",
    "for region in regions:\n",
    "    for key in region:\n",
    "        strsplit = region[key].split(\".\")\n",
    "        if len(strsplit) == 2:\n",
    "            strsplit = strsplit[:-1]\n",
    "        region[key] = strsplit[0]\n",
    "regions = [\n",
    "    {\n",
    "        \"start\": region[\"start\"],\n",
    "        \"end\": region[\"end\"],\n",
    "        \"duration\": (datetime.strptime(region[\"end\"], '%Y-%m-%d %H:%M:%S') - datetime.strptime(region[\"start\"], '%Y-%m-%d %H:%M:%S')).total_seconds()\n",
    "    }\n",
    "    for region in regions\n",
    "]\n",
    "\n",
    "print(sum([label['duration'] for label in labels])/3600)\n",
    "print(sum([region['duration'] for region in regions])/3600)"
   ]
  }
 ],
 "metadata": {
  "kernelspec": {
   "display_name": "ml-env",
   "language": "python",
   "name": "python3"
  },
  "language_info": {
   "codemirror_mode": {
    "name": "ipython",
    "version": 3
   },
   "file_extension": ".py",
   "mimetype": "text/x-python",
   "name": "python",
   "nbconvert_exporter": "python",
   "pygments_lexer": "ipython3",
   "version": "3.10.12"
  }
 },
 "nbformat": 4,
 "nbformat_minor": 2
}
